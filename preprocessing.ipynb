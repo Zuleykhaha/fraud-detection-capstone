{
 "cells": [
  {
   "cell_type": "code",
   "execution_count": 2,
   "id": "1f601c49-ecfe-4c1d-9110-dd370dcfb5be",
   "metadata": {},
   "outputs": [],
   "source": [
    "import pandas as pd\n",
    "import os\n",
    "from sklearn.model_selection import train_test_split\n",
    "from sklearn.preprocessing import StandardScaler\n",
    "from imblearn.over_sampling import SMOTE\n",
    "from collections import Counter\n",
    "import seaborn as sns\n",
    "import matplotlib.pyplot as plt\n"
   ]
  },
  {
   "cell_type": "code",
   "execution_count": 3,
   "id": "40fa6a20-3293-4f39-8e8e-473c6174430f",
   "metadata": {},
   "outputs": [
    {
     "name": "stdout",
     "output_type": "stream",
     "text": [
      "Dataset loaded.\n",
      "   distance_from_home  distance_from_last_transaction  \\\n",
      "0           57.877857                        0.311140   \n",
      "1           10.829943                        0.175592   \n",
      "2            5.091079                        0.805153   \n",
      "3            2.247564                        5.600044   \n",
      "4           44.190936                        0.566486   \n",
      "\n",
      "   ratio_to_median_purchase_price  repeat_retailer  used_chip  \\\n",
      "0                        1.945940              1.0        1.0   \n",
      "1                        1.294219              1.0        0.0   \n",
      "2                        0.427715              1.0        0.0   \n",
      "3                        0.362663              1.0        1.0   \n",
      "4                        2.222767              1.0        1.0   \n",
      "\n",
      "   used_pin_number  online_order  fraud  \n",
      "0              0.0           0.0    0.0  \n",
      "1              0.0           0.0    0.0  \n",
      "2              0.0           1.0    0.0  \n",
      "3              0.0           1.0    0.0  \n",
      "4              0.0           1.0    0.0  \n",
      "<class 'pandas.core.frame.DataFrame'>\n",
      "RangeIndex: 1000000 entries, 0 to 999999\n",
      "Data columns (total 8 columns):\n",
      " #   Column                          Non-Null Count    Dtype  \n",
      "---  ------                          --------------    -----  \n",
      " 0   distance_from_home              1000000 non-null  float64\n",
      " 1   distance_from_last_transaction  1000000 non-null  float64\n",
      " 2   ratio_to_median_purchase_price  1000000 non-null  float64\n",
      " 3   repeat_retailer                 1000000 non-null  float64\n",
      " 4   used_chip                       1000000 non-null  float64\n",
      " 5   used_pin_number                 1000000 non-null  float64\n",
      " 6   online_order                    1000000 non-null  float64\n",
      " 7   fraud                           1000000 non-null  float64\n",
      "dtypes: float64(8)\n",
      "memory usage: 61.0 MB\n",
      "None\n"
     ]
    }
   ],
   "source": [
    "# Load the main dataset\n",
    "full_data_path = \"C:/Users/hp/Desktop/bitirme_projesi/card_transdata.csv\"\n",
    "df = pd.read_csv(full_data_path)\n",
    "print(\"Dataset loaded.\")\n",
    "\n",
    "print(df.head())\n",
    "print(df.info())\n"
   ]
  },
  {
   "cell_type": "code",
   "execution_count": 4,
   "id": "faa3a83f-1cb1-4577-a5ac-d8759649e2ee",
   "metadata": {},
   "outputs": [
    {
     "name": "stdout",
     "output_type": "stream",
     "text": [
      "Total number of samples: 1000000\n"
     ]
    }
   ],
   "source": [
    "print(f\"Total number of samples: {len(df)}\")"
   ]
  },
  {
   "cell_type": "code",
   "execution_count": 5,
   "id": "c61d200c-b676-4521-9d2d-a7ff06ffd135",
   "metadata": {},
   "outputs": [
    {
     "data": {
      "text/html": [
       "<div>\n",
       "<style scoped>\n",
       "    .dataframe tbody tr th:only-of-type {\n",
       "        vertical-align: middle;\n",
       "    }\n",
       "\n",
       "    .dataframe tbody tr th {\n",
       "        vertical-align: top;\n",
       "    }\n",
       "\n",
       "    .dataframe thead th {\n",
       "        text-align: right;\n",
       "    }\n",
       "</style>\n",
       "<table border=\"1\" class=\"dataframe\">\n",
       "  <thead>\n",
       "    <tr style=\"text-align: right;\">\n",
       "      <th></th>\n",
       "      <th>distance_from_home</th>\n",
       "      <th>distance_from_last_transaction</th>\n",
       "      <th>ratio_to_median_purchase_price</th>\n",
       "      <th>repeat_retailer</th>\n",
       "      <th>used_chip</th>\n",
       "      <th>used_pin_number</th>\n",
       "      <th>online_order</th>\n",
       "      <th>fraud</th>\n",
       "    </tr>\n",
       "  </thead>\n",
       "  <tbody>\n",
       "    <tr>\n",
       "      <th>count</th>\n",
       "      <td>1000000.000000</td>\n",
       "      <td>1000000.000000</td>\n",
       "      <td>1000000.000000</td>\n",
       "      <td>1000000.000000</td>\n",
       "      <td>1000000.000000</td>\n",
       "      <td>1000000.000000</td>\n",
       "      <td>1000000.000000</td>\n",
       "      <td>1000000.000000</td>\n",
       "    </tr>\n",
       "    <tr>\n",
       "      <th>mean</th>\n",
       "      <td>26.628792</td>\n",
       "      <td>5.036519</td>\n",
       "      <td>1.824182</td>\n",
       "      <td>0.881536</td>\n",
       "      <td>0.350399</td>\n",
       "      <td>0.100608</td>\n",
       "      <td>0.650552</td>\n",
       "      <td>0.087403</td>\n",
       "    </tr>\n",
       "    <tr>\n",
       "      <th>std</th>\n",
       "      <td>65.390784</td>\n",
       "      <td>25.843093</td>\n",
       "      <td>2.799589</td>\n",
       "      <td>0.323157</td>\n",
       "      <td>0.477095</td>\n",
       "      <td>0.300809</td>\n",
       "      <td>0.476796</td>\n",
       "      <td>0.282425</td>\n",
       "    </tr>\n",
       "    <tr>\n",
       "      <th>min</th>\n",
       "      <td>0.004874</td>\n",
       "      <td>0.000118</td>\n",
       "      <td>0.004399</td>\n",
       "      <td>0.000000</td>\n",
       "      <td>0.000000</td>\n",
       "      <td>0.000000</td>\n",
       "      <td>0.000000</td>\n",
       "      <td>0.000000</td>\n",
       "    </tr>\n",
       "    <tr>\n",
       "      <th>25%</th>\n",
       "      <td>3.878008</td>\n",
       "      <td>0.296671</td>\n",
       "      <td>0.475673</td>\n",
       "      <td>1.000000</td>\n",
       "      <td>0.000000</td>\n",
       "      <td>0.000000</td>\n",
       "      <td>0.000000</td>\n",
       "      <td>0.000000</td>\n",
       "    </tr>\n",
       "    <tr>\n",
       "      <th>50%</th>\n",
       "      <td>9.967760</td>\n",
       "      <td>0.998650</td>\n",
       "      <td>0.997717</td>\n",
       "      <td>1.000000</td>\n",
       "      <td>0.000000</td>\n",
       "      <td>0.000000</td>\n",
       "      <td>1.000000</td>\n",
       "      <td>0.000000</td>\n",
       "    </tr>\n",
       "    <tr>\n",
       "      <th>75%</th>\n",
       "      <td>25.743985</td>\n",
       "      <td>3.355748</td>\n",
       "      <td>2.096370</td>\n",
       "      <td>1.000000</td>\n",
       "      <td>1.000000</td>\n",
       "      <td>0.000000</td>\n",
       "      <td>1.000000</td>\n",
       "      <td>0.000000</td>\n",
       "    </tr>\n",
       "    <tr>\n",
       "      <th>max</th>\n",
       "      <td>10632.723672</td>\n",
       "      <td>11851.104565</td>\n",
       "      <td>267.802942</td>\n",
       "      <td>1.000000</td>\n",
       "      <td>1.000000</td>\n",
       "      <td>1.000000</td>\n",
       "      <td>1.000000</td>\n",
       "      <td>1.000000</td>\n",
       "    </tr>\n",
       "  </tbody>\n",
       "</table>\n",
       "</div>"
      ],
      "text/plain": [
       "       distance_from_home  distance_from_last_transaction  \\\n",
       "count      1000000.000000                  1000000.000000   \n",
       "mean            26.628792                        5.036519   \n",
       "std             65.390784                       25.843093   \n",
       "min              0.004874                        0.000118   \n",
       "25%              3.878008                        0.296671   \n",
       "50%              9.967760                        0.998650   \n",
       "75%             25.743985                        3.355748   \n",
       "max          10632.723672                    11851.104565   \n",
       "\n",
       "       ratio_to_median_purchase_price  repeat_retailer       used_chip  \\\n",
       "count                  1000000.000000   1000000.000000  1000000.000000   \n",
       "mean                         1.824182         0.881536        0.350399   \n",
       "std                          2.799589         0.323157        0.477095   \n",
       "min                          0.004399         0.000000        0.000000   \n",
       "25%                          0.475673         1.000000        0.000000   \n",
       "50%                          0.997717         1.000000        0.000000   \n",
       "75%                          2.096370         1.000000        1.000000   \n",
       "max                        267.802942         1.000000        1.000000   \n",
       "\n",
       "       used_pin_number    online_order           fraud  \n",
       "count   1000000.000000  1000000.000000  1000000.000000  \n",
       "mean          0.100608        0.650552        0.087403  \n",
       "std           0.300809        0.476796        0.282425  \n",
       "min           0.000000        0.000000        0.000000  \n",
       "25%           0.000000        0.000000        0.000000  \n",
       "50%           0.000000        1.000000        0.000000  \n",
       "75%           0.000000        1.000000        0.000000  \n",
       "max           1.000000        1.000000        1.000000  "
      ]
     },
     "execution_count": 5,
     "metadata": {},
     "output_type": "execute_result"
    }
   ],
   "source": [
    "df.describe()"
   ]
  },
  {
   "cell_type": "code",
   "execution_count": 6,
   "id": "4f7985e7-4c2d-4920-a680-a56783be58e3",
   "metadata": {},
   "outputs": [
    {
     "name": "stdout",
     "output_type": "stream",
     "text": [
      "\n",
      "Missing values in each column:\n",
      "distance_from_home                0\n",
      "distance_from_last_transaction    0\n",
      "ratio_to_median_purchase_price    0\n",
      "repeat_retailer                   0\n",
      "used_chip                         0\n",
      "used_pin_number                   0\n",
      "online_order                      0\n",
      "fraud                             0\n",
      "dtype: int64\n"
     ]
    }
   ],
   "source": [
    "# Check for missing values\n",
    "print(\"\\nMissing values in each column:\")\n",
    "\n",
    "print(df.isnull().sum())"
   ]
  },
  {
   "cell_type": "code",
   "execution_count": 7,
   "id": "16bf29ba",
   "metadata": {},
   "outputs": [
    {
     "data": {
      "image/png": "[encoded data removed]",
      "text/plain": [
       "<Figure size 640x480 with 1 Axes>"
      ]
     },
     "metadata": {},
     "output_type": "display_data"
    }
   ],
   "source": [
    "sns.countplot(data=df, x='fraud', hue='fraud', palette='Set2', legend=False)\n",
    "plt.title(\"Distribution of Fraud Labels\")\n",
    "plt.xlabel(\"Fraud (0 = Normal, 1 = Fraud)\")\n",
    "plt.ylabel(\"Count\")\n",
    "plt.show()"
   ]
  },
  {
   "cell_type": "code",
   "execution_count": 8,
   "id": "99d122d1-b357-4f32-bc9c-e1e032378003",
   "metadata": {},
   "outputs": [],
   "source": [
    "# Split into stratified train and test sets\n",
    "train_df, test_df = train_test_split(\n",
    "    df,\n",
    "    test_size=0.5,\n",
    "    random_state=42,\n",
    "    stratify=df[\"fraud\"]\n",
    ")"
   ]
  },
  {
   "cell_type": "code",
   "execution_count": 9,
   "id": "8cae9099-2667-440c-b014-956b3683795e",
   "metadata": {},
   "outputs": [
    {
     "name": "stdout",
     "output_type": "stream",
     "text": [
      "\n",
      "Stratified split completed and files saved.\n",
      "Train set path: C:/Users/hp/Desktop/bitirme_projesi\\card_transdata_part1.csv\n",
      "Test set path:  C:/Users/hp/Desktop/bitirme_projesi\\card_transdata_part2.csv\n"
     ]
    }
   ],
   "source": [
    "# Save the split datasets\n",
    "save_splits = True \n",
    "output_dir = \"C:/Users/hp/Desktop/bitirme_projesi\"\n",
    "if save_splits:\n",
    "    train_path = os.path.join(output_dir, \"card_transdata_part1.csv\")\n",
    "    test_path = os.path.join(output_dir, \"card_transdata_part2.csv\")\n",
    "\n",
    "    train_df.to_csv(train_path, index=False)\n",
    "    test_df.to_csv(test_path, index=False)\n",
    "\n",
    "    print(\"\\nStratified split completed and files saved.\")\n",
    "    print(f\"Train set path: {train_path}\")\n",
    "    print(f\"Test set path:  {test_path}\")"
   ]
  },
  {
   "cell_type": "code",
   "execution_count": 10,
   "id": "c7d3ea47-bc8a-4ec3-b930-74a6e7accfcd",
   "metadata": {},
   "outputs": [
    {
     "name": "stdout",
     "output_type": "stream",
     "text": [
      "\n",
      "--- FRAUD Class Distribution ---\n",
      "\n",
      "[Train Set - Part 1]\n",
      "fraud\n",
      "0.0    0.912596\n",
      "1.0    0.087404\n",
      "Name: proportion, dtype: float64\n",
      "fraud\n",
      "0.0    456298\n",
      "1.0     43702\n",
      "Name: count, dtype: int64\n",
      "\n",
      "[Test Set - Part 2]\n",
      "fraud\n",
      "0.0    0.912598\n",
      "1.0    0.087402\n",
      "Name: proportion, dtype: float64\n",
      "fraud\n",
      "0.0    456299\n",
      "1.0     43701\n",
      "Name: count, dtype: int64\n"
     ]
    }
   ],
   "source": [
    "# Display class distribution of the 'fraud' column\n",
    "print(\"\\n--- FRAUD Class Distribution ---\")\n",
    "\n",
    "print(\"\\n[Train Set - Part 1]\")\n",
    "print(train_df[\"fraud\"].value_counts(normalize=True))\n",
    "print(train_df[\"fraud\"].value_counts())\n",
    "\n",
    "print(\"\\n[Test Set - Part 2]\")\n",
    "print(test_df[\"fraud\"].value_counts(normalize=True))\n",
    "print(test_df[\"fraud\"].value_counts())"
   ]
  },
  {
   "cell_type": "code",
   "execution_count": 11,
   "id": "54f7a2db-f80a-4cd4-8fcf-6bc1b30d5cf1",
   "metadata": {},
   "outputs": [
    {
     "name": "stdout",
     "output_type": "stream",
     "text": [
      "Temizlenmiş eğitim verisi şekli: (387743, 8)\n",
      "fraud\n",
      "0.0    344041\n",
      "1.0     43702\n",
      "Name: count, dtype: int64\n"
     ]
    }
   ],
   "source": [
    "# Gürültü temizlenecek sütunlar\n",
    "columns = [\n",
    "    'distance_from_home',\n",
    "    'distance_from_last_transaction',\n",
    "    'ratio_to_median_purchase_price'\n",
    "]\n",
    "\n",
    "# Sadece normal işlemleri seç\n",
    "train_normal = train_df[train_df['fraud'] == 0.0]\n",
    "\n",
    "# IQR ile outlier temizleme fonksiyonu\n",
    "def remove_outliers_iqr(df, cols):\n",
    "    for col in cols:\n",
    "        Q1 = df[col].quantile(0.25)\n",
    "        Q3 = df[col].quantile(0.75)\n",
    "        IQR = Q3 - Q1\n",
    "        lower = Q1 - 1.5 * IQR\n",
    "        upper = Q3 + 1.5 * IQR\n",
    "        df = df[(df[col] >= lower) & (df[col] <= upper)]\n",
    "    return df\n",
    "\n",
    "# Gürültü temizliği\n",
    "train_normal_clean = remove_outliers_iqr(train_normal, columns)\n",
    "\n",
    "# Fraud verilerini ekle (onlara dokunmuyoruz)\n",
    "train_fraud = train_df[train_df['fraud'] == 1.0]\n",
    "\n",
    "# Temizlenmiş eğitim verisini birleştir\n",
    "train_cleaned = pd.concat([train_normal_clean, train_fraud], ignore_index=True)\n",
    "\n",
    "# Sonuç kontrolü\n",
    "print(\"Temizlenmiş eğitim verisi şekli:\", train_cleaned.shape)\n",
    "print(train_cleaned['fraud'].value_counts())\n"
   ]
  },
  {
   "cell_type": "code",
   "execution_count": 12,
   "id": "19384bcb-6bcc-442c-bd84-13108c04de09",
   "metadata": {},
   "outputs": [
    {
     "name": "stdout",
     "output_type": "stream",
     "text": [
      "Class distribution before SMOTE: Counter({0.0: 344041, 1.0: 43702})\n",
      "Class distribution after SMOTE: Counter({0.0: 344041, 1.0: 344041})\n"
     ]
    }
   ],
   "source": [
    "from imblearn.over_sampling import SMOTE\n",
    "from sklearn.preprocessing import StandardScaler\n",
    "from collections import Counter\n",
    "\n",
    "# Separate features and target\n",
    "X_train = train_cleaned.drop(columns=['fraud'])\n",
    "y_train = train_cleaned['fraud']\n",
    "\n",
    "scaler = StandardScaler()\n",
    "X_train_scaled = scaler.fit_transform(X_train)\n",
    "\n",
    "smote = SMOTE(random_state=42)\n",
    "X_resampled, y_resampled = smote.fit_resample(X_train_scaled, y_train)\n",
    "\n",
    "print(\"Class distribution before SMOTE:\", Counter(y_train))\n",
    "print(\"Class distribution after SMOTE:\", Counter(y_resampled))\n",
    "\n",
    "\n"
   ]
  },
  {
   "cell_type": "code",
   "execution_count": 13,
   "id": "29618ace-3a79-464b-813b-607215b7db57",
   "metadata": {},
   "outputs": [
    {
     "data": {
      "image/png": "[encoded data removed]",
      "text/plain": [
       "<Figure size 600x400 with 1 Axes>"
      ]
     },
     "metadata": {},
     "output_type": "display_data"
    }
   ],
   "source": [
    "import matplotlib.pyplot as plt\n",
    "from collections import Counter\n",
    "\n",
    "counter_res = Counter(y_resampled)\n",
    "\n",
    "plt.figure(figsize=(6, 4))\n",
    "plt.bar(counter_res.keys(), counter_res.values(), color=['teal', 'coral'])\n",
    "plt.title('Class Distribution After SMOTE (Train Set Only)')\n",
    "plt.xlabel('Fraud Label (0 = Normal, 1 = Fraud)')\n",
    "plt.ylabel('Count')\n",
    "plt.xticks([0, 1])\n",
    "plt.show()\n",
    "\n"
   ]
  },
  {
   "cell_type": "code",
   "execution_count": 14,
   "id": "2465bd9a-ce2f-43b9-a24f-fb9f58ecbdf3",
   "metadata": {},
   "outputs": [
    {
     "name": "stdout",
     "output_type": "stream",
     "text": [
      " SMOTE applied data was saved to the file 'train_data_smote.csv'.\n",
      "fraud\n",
      "0.0    344041\n",
      "1.0    344041\n",
      "Name: count, dtype: int64\n"
     ]
    }
   ],
   "source": [
    "df_smote = pd.DataFrame(X_resampled, columns=X_train.columns)\n",
    "df_smote['fraud'] = y_resampled\n",
    "\n",
    "df_smote.to_csv(\"train_data_smote.csv\", index=False)\n",
    "\n",
    "print(\" SMOTE applied data was saved to the file 'train_data_smote.csv'.\")\n",
    "print(df_smote['fraud'].value_counts())\n"
   ]
  },
  {
   "cell_type": "code",
   "execution_count": 15,
   "id": "377850bc-09f7-4483-b029-9fda90cb98f1",
   "metadata": {},
   "outputs": [
    {
     "name": "stdout",
     "output_type": "stream",
     "text": [
      "Class distribution before Tomek Links:\n",
      "Counter({0.0: 344041, 1.0: 344041})\n",
      "→ after →\n",
      "Counter({0.0: 344041, 1.0: 344041})\n"
     ]
    }
   ],
   "source": [
    "from imblearn.under_sampling import TomekLinks\n",
    "from collections import Counter\n",
    "\n",
    "\n",
    "X = df_smote.drop(columns=['fraud'])\n",
    "y = df_smote['fraud']\n",
    "\n",
    "# Apply Tomek Links\n",
    "tl = TomekLinks()\n",
    "X_tomek, y_tomek = tl.fit_resample(X, y)\n",
    "\n",
    "# Convert the cleaned data back to a DataFrame\n",
    "df_tomek = pd.DataFrame(X_tomek, columns=X.columns)\n",
    "df_tomek['fraud'] = y_tomek\n",
    "\n",
    "# Save the new dataset\n",
    "df_tomek.to_csv(\"train_data_smote_tomek.csv\", index=False)\n",
    "\n",
    "# The results\n",
    "print(\"Class distribution before Tomek Links:\")\n",
    "print(Counter(y))\n",
    "print(\"→ after →\")\n",
    "print(Counter(y_tomek))\n"
   ]
  },
  {
   "cell_type": "code",
   "execution_count": null,
   "id": "8e30f855-a15b-47ec-a10c-abda48b42401",
   "metadata": {},
   "outputs": [],
   "source": []
  }
 ],
 "metadata": {
  "kernelspec": {
   "display_name": "Python 3 (ipykernel)",
   "language": "python",
   "name": "python3"
  },
  "language_info": {
   "codemirror_mode": {
    "name": "ipython",
    "version": 3
   },
   "file_extension": ".py",
   "mimetype": "text/x-python",
   "name": "python",
   "nbconvert_exporter": "python",
   "pygments_lexer": "ipython3",
   "version": "3.12.7"
  }
 },
 "nbformat": 4,
 "nbformat_minor": 5
}
